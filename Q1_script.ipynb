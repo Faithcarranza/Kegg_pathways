{
 "cells": [
  {
   "cell_type": "markdown",
   "id": "b1cfd4b4-62a5-4d31-95e8-2f14bae473f4",
   "metadata": {},
   "source": [
    "# Project 2 Kegg Pathways Overlap "
   ]
  },
  {
   "cell_type": "markdown",
   "id": "e1088818-a591-48e4-9cb5-ecf82acccf96",
   "metadata": {},
   "source": [
    "### 1. Map/Merge the information by pathway_ID and gene name"
   ]
  },
  {
   "cell_type": "markdown",
   "id": "56f357f0-f7e3-4585-bb2c-b30bc21cde5e",
   "metadata": {},
   "source": [
    "Started by loading in all data sets into pandas data frames. <br>\n",
    "There are 3 data sets: <br>\n",
    " 1. The pathway ID and the pathway name \n",
    " 2. The gene ID and gene name(s)\n",
    " 3. The gene by ID associated with pathways by ID \n",
    "    "
   ]
  },
  {
   "cell_type": "code",
   "execution_count": 111,
   "id": "984f1263-7c6a-4f63-9c70-c21ed9541eff",
   "metadata": {},
   "outputs": [],
   "source": [
    "#pandas data frame containing the pathway ID in the first column, and the \n",
    "#name of the pathway in the second column \n",
    "pathway_ID_list = pd.read_csv('http://rest.kegg.jp/list/pathway/hsa', delimiter = \"\\t\", header = None)\n",
    "pathway_ID_list[0]# pathway IDs\n",
    "pathway_ID_list[1]#pathway names \n",
    "pathway_ID_list.columns = [\"pathway_ID\", \"pathway_name\"]"
   ]
  },
  {
   "cell_type": "code",
   "execution_count": 125,
   "id": "75986c8e-3f54-4680-9c40-2f233525036c",
   "metadata": {},
   "outputs": [],
   "source": [
    "#pandas data frame containing the gene ID in the first column, and the \n",
    "#name(s) of the gene in the second column \n",
    "geneID_geneName = pd.read_csv(\"http://rest.kegg.jp/list/hsa\", sep = \"\\t\", header = None)\n",
    "geneID_geneName [0] #gene IDs\n",
    "geneID_geneName [1] #gene names\n",
    "geneID_geneName.columns = [\"gene_ID\", \"gene_name\"]"
   ]
  },
  {
   "cell_type": "code",
   "execution_count": 105,
   "id": "f09d4c4c-a690-4fa2-9459-7173abdc984d",
   "metadata": {},
   "outputs": [],
   "source": [
    "#pandas data frame containing the gene ID in the first column, and the \n",
    "#pathway ID in the second column \n",
    "pathway_to_gene = pd.read_csv(\"http://rest.kegg.jp/link/pathway/hsa\", sep = \"\\t\", header = None)\n",
    "pathway_to_gene[0]# gene IDs \n",
    "pathway_to_gene[1]#pathway IDs\n",
    "pathway_to_gene.columns = [\"gene_ID\", \"pathway_ID\"]"
   ]
  },
  {
   "cell_type": "markdown",
   "id": "6cb658b4-c964-42d1-92fe-d1ad4c4d9762",
   "metadata": {},
   "source": [
    "I want to compile the information from the three data frames into one, I want to keep all the information, so I want to find the largest DF and start merging from there "
   ]
  },
  {
   "cell_type": "code",
   "execution_count": 126,
   "id": "3a909bc6-90ca-4c5b-8137-905ea246bd44",
   "metadata": {},
   "outputs": [
    {
     "data": {
      "text/plain": [
       "(22199, 2)"
      ]
     },
     "execution_count": 126,
     "metadata": {},
     "output_type": "execute_result"
    }
   ],
   "source": [
    "pathway_ID_list.shape #352 X 2 \n",
    "pathway_to_gene.shape #35369 X 2 \n",
    "geneID_geneName.shape #22199 X 2 \n",
    "#pathway_to_gene is largest dataframe. Will merge with pathway_ID_lsit first "
   ]
  },
  {
   "cell_type": "code",
   "execution_count": 143,
   "id": "5ee7a419-9afb-4fda-974f-c9f7ad6c9ab4",
   "metadata": {},
   "outputs": [],
   "source": [
    "#Firts I am going to merge the pathway_ID list to the pathway_to_gene data frame by pathway ID \n",
    "#I left joined with pathway_to_gene as left because it is bigger \n",
    "pathway_gene = pathway_ID_list.merge(pathway_to_gene, on  = \"pathway_ID\", how = \"left\")"
   ]
  },
  {
   "cell_type": "code",
   "execution_count": 158,
   "id": "30f398f2-f334-4cbb-abd0-629978403926",
   "metadata": {},
   "outputs": [
    {
     "data": {
      "text/plain": [
       "(35369, 3)"
      ]
     },
     "execution_count": 158,
     "metadata": {},
     "output_type": "execute_result"
    }
   ],
   "source": [
    "#I want to make sure there are no gross errors when merging leaving a bunch of NAs \n",
    "pathway_gene.isnull().sum() #there are no na values \n",
    "\n",
    "\n",
    "pathway_gene.shape #is the right shape too, merge seems to have worked \n",
    "\n"
   ]
  },
  {
   "cell_type": "code",
   "execution_count": 159,
   "id": "9e439772-ab43-4de9-bffd-8411d2a9396c",
   "metadata": {},
   "outputs": [
    {
     "data": {
      "text/html": [
       "<div>\n",
       "<style scoped>\n",
       "    .dataframe tbody tr th:only-of-type {\n",
       "        vertical-align: middle;\n",
       "    }\n",
       "\n",
       "    .dataframe tbody tr th {\n",
       "        vertical-align: top;\n",
       "    }\n",
       "\n",
       "    .dataframe thead th {\n",
       "        text-align: right;\n",
       "    }\n",
       "</style>\n",
       "<table border=\"1\" class=\"dataframe\">\n",
       "  <thead>\n",
       "    <tr style=\"text-align: right;\">\n",
       "      <th></th>\n",
       "      <th>pathway_ID</th>\n",
       "      <th>pathway_name</th>\n",
       "      <th>gene_ID</th>\n",
       "      <th>gene_name</th>\n",
       "    </tr>\n",
       "  </thead>\n",
       "  <tbody>\n",
       "    <tr>\n",
       "      <th>0</th>\n",
       "      <td>path:hsa00010</td>\n",
       "      <td>Glycolysis / Gluconeogenesis - Homo sapiens (h...</td>\n",
       "      <td>hsa:10327</td>\n",
       "      <td>AKR1A1, ALDR1, ALR, ARM, DD3, HEL-S-6; aldo-ke...</td>\n",
       "    </tr>\n",
       "    <tr>\n",
       "      <th>1</th>\n",
       "      <td>path:hsa00010</td>\n",
       "      <td>Glycolysis / Gluconeogenesis - Homo sapiens (h...</td>\n",
       "      <td>hsa:124</td>\n",
       "      <td>ADH1A, ADH1; alcohol dehydrogenase 1A (class I...</td>\n",
       "    </tr>\n",
       "    <tr>\n",
       "      <th>2</th>\n",
       "      <td>path:hsa00010</td>\n",
       "      <td>Glycolysis / Gluconeogenesis - Homo sapiens (h...</td>\n",
       "      <td>hsa:125</td>\n",
       "      <td>ADH1B, ADH2, HEL-S-117; alcohol dehydrogenase ...</td>\n",
       "    </tr>\n",
       "    <tr>\n",
       "      <th>3</th>\n",
       "      <td>path:hsa00010</td>\n",
       "      <td>Glycolysis / Gluconeogenesis - Homo sapiens (h...</td>\n",
       "      <td>hsa:126</td>\n",
       "      <td>ADH1C, ADH3; alcohol dehydrogenase 1C (class I...</td>\n",
       "    </tr>\n",
       "    <tr>\n",
       "      <th>4</th>\n",
       "      <td>path:hsa00010</td>\n",
       "      <td>Glycolysis / Gluconeogenesis - Homo sapiens (h...</td>\n",
       "      <td>hsa:127</td>\n",
       "      <td>ADH4, ADH-2, HEL-S-4; alcohol dehydrogenase 4 ...</td>\n",
       "    </tr>\n",
       "    <tr>\n",
       "      <th>...</th>\n",
       "      <td>...</td>\n",
       "      <td>...</td>\n",
       "      <td>...</td>\n",
       "      <td>...</td>\n",
       "    </tr>\n",
       "    <tr>\n",
       "      <th>35364</th>\n",
       "      <td>path:hsa05418</td>\n",
       "      <td>Fluid shear stress and atherosclerosis - Homo ...</td>\n",
       "      <td>hsa:91860</td>\n",
       "      <td>CALML4, NY-BR-20; calmodulin like 4</td>\n",
       "    </tr>\n",
       "    <tr>\n",
       "      <th>35365</th>\n",
       "      <td>path:hsa05418</td>\n",
       "      <td>Fluid shear stress and atherosclerosis - Homo ...</td>\n",
       "      <td>hsa:92</td>\n",
       "      <td>ACVR2A, ACTRII, ACVR2; activin A receptor type 2A</td>\n",
       "    </tr>\n",
       "    <tr>\n",
       "      <th>35366</th>\n",
       "      <td>path:hsa05418</td>\n",
       "      <td>Fluid shear stress and atherosclerosis - Homo ...</td>\n",
       "      <td>hsa:93</td>\n",
       "      <td>ACVR2B, ACTRIIB, ActR-IIB, HTX4; activin A rec...</td>\n",
       "    </tr>\n",
       "    <tr>\n",
       "      <th>35367</th>\n",
       "      <td>path:hsa05418</td>\n",
       "      <td>Fluid shear stress and atherosclerosis - Homo ...</td>\n",
       "      <td>hsa:9446</td>\n",
       "      <td>GSTO1, GSTO_1-1, GSTTLp28, HEL-S-21, P28, SPG-...</td>\n",
       "    </tr>\n",
       "    <tr>\n",
       "      <th>35368</th>\n",
       "      <td>path:hsa05418</td>\n",
       "      <td>Fluid shear stress and atherosclerosis - Homo ...</td>\n",
       "      <td>hsa:9817</td>\n",
       "      <td>KEAP1, INrf2, KLHL19; kelch like ECH associate...</td>\n",
       "    </tr>\n",
       "  </tbody>\n",
       "</table>\n",
       "<p>35369 rows × 4 columns</p>\n",
       "</div>"
      ],
      "text/plain": [
       "          pathway_ID                                       pathway_name  \\\n",
       "0      path:hsa00010  Glycolysis / Gluconeogenesis - Homo sapiens (h...   \n",
       "1      path:hsa00010  Glycolysis / Gluconeogenesis - Homo sapiens (h...   \n",
       "2      path:hsa00010  Glycolysis / Gluconeogenesis - Homo sapiens (h...   \n",
       "3      path:hsa00010  Glycolysis / Gluconeogenesis - Homo sapiens (h...   \n",
       "4      path:hsa00010  Glycolysis / Gluconeogenesis - Homo sapiens (h...   \n",
       "...              ...                                                ...   \n",
       "35364  path:hsa05418  Fluid shear stress and atherosclerosis - Homo ...   \n",
       "35365  path:hsa05418  Fluid shear stress and atherosclerosis - Homo ...   \n",
       "35366  path:hsa05418  Fluid shear stress and atherosclerosis - Homo ...   \n",
       "35367  path:hsa05418  Fluid shear stress and atherosclerosis - Homo ...   \n",
       "35368  path:hsa05418  Fluid shear stress and atherosclerosis - Homo ...   \n",
       "\n",
       "         gene_ID                                          gene_name  \n",
       "0      hsa:10327  AKR1A1, ALDR1, ALR, ARM, DD3, HEL-S-6; aldo-ke...  \n",
       "1        hsa:124  ADH1A, ADH1; alcohol dehydrogenase 1A (class I...  \n",
       "2        hsa:125  ADH1B, ADH2, HEL-S-117; alcohol dehydrogenase ...  \n",
       "3        hsa:126  ADH1C, ADH3; alcohol dehydrogenase 1C (class I...  \n",
       "4        hsa:127  ADH4, ADH-2, HEL-S-4; alcohol dehydrogenase 4 ...  \n",
       "...          ...                                                ...  \n",
       "35364  hsa:91860                CALML4, NY-BR-20; calmodulin like 4  \n",
       "35365     hsa:92  ACVR2A, ACTRII, ACVR2; activin A receptor type 2A  \n",
       "35366     hsa:93  ACVR2B, ACTRIIB, ActR-IIB, HTX4; activin A rec...  \n",
       "35367   hsa:9446  GSTO1, GSTO_1-1, GSTTLp28, HEL-S-21, P28, SPG-...  \n",
       "35368   hsa:9817  KEAP1, INrf2, KLHL19; kelch like ECH associate...  \n",
       "\n",
       "[35369 rows x 4 columns]"
      ]
     },
     "execution_count": 159,
     "metadata": {},
     "output_type": "execute_result"
    }
   ],
   "source": [
    "pathway_gene_name = pathway_gene.merge(geneID_geneName, on = \"gene_ID\", how = \"left\")\n",
    "\n",
    "pathway_gene_name.shape #is the right shape \n",
    "\n",
    "pathway_gene_name.isnull().sum() #there are no NA values \n",
    "\n",
    "pathway_gene_name  #We now have a data frame that is all of the information about the gene ID, its name, and its assocaited pathways. "
   ]
  },
  {
   "cell_type": "code",
   "execution_count": 186,
   "id": "27f9bf47-7b46-4c80-a4fd-441b7118bb9a",
   "metadata": {},
   "outputs": [],
   "source": [
    "pathway_gene_name.to_csv(\"pathway_gene_info.csv\", index=False) \n"
   ]
  }
 ],
 "metadata": {
  "kernelspec": {
   "display_name": "Python 3",
   "language": "python",
   "name": "python3"
  },
  "language_info": {
   "codemirror_mode": {
    "name": "ipython",
    "version": 3
   },
   "file_extension": ".py",
   "mimetype": "text/x-python",
   "name": "python",
   "nbconvert_exporter": "python",
   "pygments_lexer": "ipython3",
   "version": "3.8.8"
  }
 },
 "nbformat": 4,
 "nbformat_minor": 5
}
