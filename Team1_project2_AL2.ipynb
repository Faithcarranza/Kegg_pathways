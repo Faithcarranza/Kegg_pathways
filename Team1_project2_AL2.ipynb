{
 "cells": [
  {
   "cell_type": "markdown",
   "id": "1c823b8a-51df-4337-9421-734b114f7297",
   "metadata": {},
   "source": [
    "# Project 2 - KEGG pathways overlap\n",
    "\n",
    "Ciao-Sin Chelsea Chen <br>\n",
    "Amelia Lauth <br>\n",
    "Noah Helton <br>\n",
    "Faith Carranza"
   ]
  },
  {
   "cell_type": "markdown",
   "id": "d948b364-d97b-4b26-b2f6-e3e9240a6d2b",
   "metadata": {},
   "source": [
    "# Reflections"
   ]
  },
  {
   "cell_type": "markdown",
   "id": "9b66f509-d230-4480-9c06-54c1fa87855c",
   "metadata": {},
   "source": [
    "## Ciao-Sin Chelsea Chen"
   ]
  },
  {
   "cell_type": "markdown",
   "id": "a06ae16a-d8f9-437f-a842-39d2efe5472f",
   "metadata": {},
   "source": [
    "What was your biggest challenge in this project? (regarding writing code and not only) <br>\n",
    "- My biggest challenge in this project was to find out how to make the dataframe of links between gene and pathway into a dictionary. When I was computing the pathway count of each gene, instead of just directly getting the counts, I chose to make a dictionary with genes as keys and pathways as values to retain the information of pathway IDs. Since one gene can have multiple pathways, I supposed a dictionary is an appropriate format, but none of formats of to_dict method can handle multiple values for one key. It took me a while to figure out how to use set_index, groupby, and apply methods together.\n",
    "\n",
    "What did you learn while working on this project? (regarding writing code and not only) <br>\n",
    "- While working on this project, I learned how to collaborate with others on GitHub using clones, forks, pull requests. This is the first time I realized how the comments and tags features can reduce the burden of communicating back and forth and make the information sharing much more convenient. I also learned how to how to use dataframe methods or comprehensions to make the code more efficient without iterating through rows or columns of dataframes because it can be a lot more time consuming when working on a bigger data.\n",
    "\n",
    "If you had more time on the project what other question(s) would you like to answer? (at least one question is required) <br>\n",
    " - If I had more time on the project, I would look for pathways that contains the highest numbers of genes, which are likely to be an overview of multiple pathways, such as biosynthesis of amino acids (hsa01230). These can help with visualizing the difference of metabolic trends when there are different groups or time points in a study."
   ]
  },
  {
   "cell_type": "markdown",
   "id": "fb4b974f-8b27-41c6-8973-6ee8a94845f9",
   "metadata": {},
   "source": [
    "## Faith Carranza"
   ]
  },
  {
   "cell_type": "markdown",
   "id": "233728b4-a2c1-4221-b50d-4f94f45283c7",
   "metadata": {
    "tags": []
   },
   "source": [
    "What was your biggest challenge in this project? <br>\n",
    "<br>\n",
    "- My biggest challenge in this project was learning how to manage a GitHub repository and how to figure out how everyones code fit together for a contiguous analysis. Everyone write code slightly different, so trying to make sure data types and objects were used consistently bewteen each others code to make sure the coding environment was organized and flowed well together. It was also challenging to keep track of the repository and make sure the working tree was always clear and the repository was organized and up to date. \n",
    "\n",
    "\n",
    "What did you learn while working on this project?  <br>\n",
    "<br>\n",
    "- I learned how to work much more comfortably with panadas data frames, and how to merge dataframes. I also learned how to manage a github repositiory. I also learned how to use venn diagram packages to make venn diagrams. In addition, this project was a lot of practice writing functions, which really forced me to think about data types, and why different data types are useful in practice. \n",
    "<br>\n",
    "<br>\n",
    "\n",
    "\n",
    "If you had more time on the project what other question(s) would you like to answer? \n",
    "- I would like to see what the distribution of how many genes overlap between pathways is like. Does it seem like a lot of pathway combinations share a large number of overlapping genes? What is the average number of overlapping genes between any two pathways? \n",
    "- Why are the genes for the top 3 genes regulating the exact same sets of pathways? I would visually inspect these genes to see how they might be related? \n"
   ]
  },
  {
   "cell_type": "markdown",
   "id": "5790548d-23c6-49d2-b373-8e73758657cb",
   "metadata": {},
   "source": [
    "## Amelia Lauth"
   ]
  },
  {
   "cell_type": "markdown",
   "id": "89c8ce39-6b3c-486f-b898-dd3d5400bf95",
   "metadata": {
    "tags": []
   },
   "source": [
    "What was your biggest challenge in this project? <br>\n",
    "<br>\n",
    "- The biggest challenge in this project was learning how to format Venn diagrams using a python package I was not familiar with. I ran into the problem of having more than 3 sets of gene pathways to put into the Venn diagram. So, I got experience searching for different python packages that could graph up to six or eight sets at once. I then had to play around with test Venn diagrams to learn what inputs they took. I ended up creating three separate Venn diagrams to show that the genes with the same number of pathways had no differences between pathways. This allowed us to choose one gene from each of the three pathway groups and place those three genes in the final Venn diagram. Pushing my code to the shared GitHub repository was also challenging since it kept denying me permission. I realized I had to fork the repository onto my own GitHub account and then successfully push it through a pull-request to the team’s repository. \n",
    "\n",
    "\n",
    "What did you learn while working on this project?  <br>\n",
    "<br>\n",
    "- This was my first team coding project, so I learned how to communicate well with team members, asking for help when needed, discussing code, debugging code, learning how to read other people’s coding style, testing the final scripts, and forking and pushing code to the shared GitHub repository. I also got the experience of searching for python packages and reading their GitHub descriptions/documentations. \n",
    "<br>\n",
    "\n",
    "\n",
    "If you had more time on the project what other question(s) would you like to answer? \n",
    "- I am curious as to why we had more than one gene with the same number of pathways. Furthermore, when I tested with Venn diagrams to see if there were differences between/among those pathways, they were the same. Why did more than one gene have the exact same number of the exact same pathways? How many more genes in this dictionary we created have the same number of pathways? Do those genes have the same exact pathways too? What is the rate of this pathway overlapping amongst all the genes? If the pathways are overlapping, what other aspects/characteristics of these genes are similar? \n"
   ]
  },
  {
   "cell_type": "markdown",
   "id": "68bafd53-6630-403d-b9b8-cc6b8c80cc80",
   "metadata": {},
   "source": [
    "# Overall the goal of this project is to quantify and visualize the overlap of genes in various KEGG pathways\n",
    "\n"
   ]
  },
  {
   "cell_type": "markdown",
   "id": "a0be813b-0a24-4aca-977f-135f4cb4487c",
   "metadata": {},
   "source": [
    "## 1. Map/merge the information by PATHWAY_ID and GENE_ID."
   ]
  },
  {
   "cell_type": "markdown",
   "id": "40204f76-2c32-40ce-a57e-427f004ab2ab",
   "metadata": {},
   "source": [
    "Started by loading in all data sets into pandas data frames. <br>\n",
    "There are 3 data sets: <br>\n",
    " 1. The pathway ID and the pathway name (pathway_ID_list)\n",
    " 2. The gene ID and gene name(s) (geneID_geneName)\n",
    " 3. The gene by ID associated with pathways by ID (pathway_to_gene)"
   ]
  },
  {
   "cell_type": "code",
   "execution_count": 4,
   "id": "b1bc4760-1630-4e15-ba5b-bbf887a5f988",
   "metadata": {},
   "outputs": [],
   "source": [
    "import numpy as np \n",
    "import pandas as pd"
   ]
  },
  {
   "cell_type": "code",
   "execution_count": 5,
   "id": "029c517e-504a-4654-bee0-1e4756b05b5f",
   "metadata": {},
   "outputs": [],
   "source": [
    "#pandas data frame containing the pathway ID in the first column, and the \n",
    "#name of the pathway in the second column \n",
    "pathway_ID_list = pd.read_csv('http://rest.kegg.jp/list/pathway/hsa', delimiter = \"\\t\", header = None)\n",
    "pathway_ID_list[0]# pathway IDs\n",
    "pathway_ID_list[1]#pathway names \n",
    "pathway_ID_list.columns = [\"pathway_ID\", \"pathway_name\"]"
   ]
  },
  {
   "cell_type": "code",
   "execution_count": 6,
   "id": "6e0bec2c-8cc7-4e0c-a414-c43b68362ef1",
   "metadata": {},
   "outputs": [],
   "source": [
    "#pandas data frame containing the gene ID in the first column, and the \n",
    "#name(s) of the gene in the second column \n",
    "geneID_geneName = pd.read_csv(\"http://rest.kegg.jp/list/hsa\", sep = \"\\t\", header = None)\n",
    "geneID_geneName [0] #gene IDs\n",
    "geneID_geneName [1] #gene names\n",
    "geneID_geneName.columns = [\"gene_ID\", \"gene_name\"]"
   ]
  },
  {
   "cell_type": "code",
   "execution_count": 7,
   "id": "1b02fe44-1d06-41ea-b48c-2aa5521fa27d",
   "metadata": {},
   "outputs": [],
   "source": [
    "#pandas data frame containing the gene ID in the first column, and the \n",
    "#pathway ID in the second column \n",
    "pathway_to_gene = pd.read_csv(\"http://rest.kegg.jp/link/pathway/hsa\", sep = \"\\t\", header = None)\n",
    "pathway_to_gene[0]# gene IDs \n",
    "pathway_to_gene[1]#pathway IDs\n",
    "pathway_to_gene.columns = [\"gene_ID\", \"pathway_ID\"]"
   ]
  },
  {
   "cell_type": "markdown",
   "id": "304b5c36-0b00-4ce0-844f-ada603588aef",
   "metadata": {},
   "source": [
    "I want to compile the information from the three data frames into one, I want to keep all the information, so I want to find the largest DF and start merging from there "
   ]
  },
  {
   "cell_type": "code",
   "execution_count": 8,
   "id": "e213e65d-b09d-4a90-a969-ccfe855accec",
   "metadata": {},
   "outputs": [
    {
     "data": {
      "text/plain": [
       "(22199, 2)"
      ]
     },
     "execution_count": 8,
     "metadata": {},
     "output_type": "execute_result"
    }
   ],
   "source": [
    "pathway_ID_list.shape #352 X 2 \n",
    "pathway_to_gene.shape #35369 X 2 \n",
    "geneID_geneName.shape #22199 X 2 \n",
    "#pathway_to_gene is largest dataframe. Will merge with pathway_ID_lsit first "
   ]
  },
  {
   "cell_type": "code",
   "execution_count": 9,
   "id": "c9049e4a-fea3-4813-9013-37b84b75dba9",
   "metadata": {},
   "outputs": [],
   "source": [
    "#Firts I am going to merge the pathway_ID list to the pathway_to_gene data frame by pathway ID \n",
    "#I left joined with pathway_to_gene as left because it is bigger \n",
    "pathway_gene = pathway_ID_list.merge(pathway_to_gene, on  = \"pathway_ID\", how = \"left\")"
   ]
  },
  {
   "cell_type": "code",
   "execution_count": 10,
   "id": "b431d921-51df-47eb-a30c-2953a6f36eef",
   "metadata": {},
   "outputs": [
    {
     "data": {
      "text/plain": [
       "(35380, 3)"
      ]
     },
     "execution_count": 10,
     "metadata": {},
     "output_type": "execute_result"
    }
   ],
   "source": [
    "#I want to make sure there are no gross errors when merging leaving a bunch of NAs \n",
    "pathway_gene.isnull().sum() #there are no na values \n",
    "\n",
    "\n",
    "pathway_gene.shape #is the right shape too, merge seems to have worked \n",
    "\n"
   ]
  },
  {
   "cell_type": "code",
   "execution_count": 11,
   "id": "22eb8f69-030c-4ef8-aca0-23b834047076",
   "metadata": {},
   "outputs": [
    {
     "data": {
      "text/html": [
       "<div>\n",
       "<style scoped>\n",
       "    .dataframe tbody tr th:only-of-type {\n",
       "        vertical-align: middle;\n",
       "    }\n",
       "\n",
       "    .dataframe tbody tr th {\n",
       "        vertical-align: top;\n",
       "    }\n",
       "\n",
       "    .dataframe thead th {\n",
       "        text-align: right;\n",
       "    }\n",
       "</style>\n",
       "<table border=\"1\" class=\"dataframe\">\n",
       "  <thead>\n",
       "    <tr style=\"text-align: right;\">\n",
       "      <th></th>\n",
       "      <th>pathway_ID</th>\n",
       "      <th>pathway_name</th>\n",
       "      <th>gene_ID</th>\n",
       "      <th>gene_name</th>\n",
       "    </tr>\n",
       "  </thead>\n",
       "  <tbody>\n",
       "    <tr>\n",
       "      <th>0</th>\n",
       "      <td>path:hsa00010</td>\n",
       "      <td>Glycolysis / Gluconeogenesis - Homo sapiens (h...</td>\n",
       "      <td>hsa:10327</td>\n",
       "      <td>AKR1A1, ALDR1, ALR, ARM, DD3, HEL-S-6; aldo-ke...</td>\n",
       "    </tr>\n",
       "    <tr>\n",
       "      <th>1</th>\n",
       "      <td>path:hsa00010</td>\n",
       "      <td>Glycolysis / Gluconeogenesis - Homo sapiens (h...</td>\n",
       "      <td>hsa:124</td>\n",
       "      <td>ADH1A, ADH1; alcohol dehydrogenase 1A (class I...</td>\n",
       "    </tr>\n",
       "    <tr>\n",
       "      <th>2</th>\n",
       "      <td>path:hsa00010</td>\n",
       "      <td>Glycolysis / Gluconeogenesis - Homo sapiens (h...</td>\n",
       "      <td>hsa:125</td>\n",
       "      <td>ADH1B, ADH2, HEL-S-117; alcohol dehydrogenase ...</td>\n",
       "    </tr>\n",
       "    <tr>\n",
       "      <th>3</th>\n",
       "      <td>path:hsa00010</td>\n",
       "      <td>Glycolysis / Gluconeogenesis - Homo sapiens (h...</td>\n",
       "      <td>hsa:126</td>\n",
       "      <td>ADH1C, ADH3; alcohol dehydrogenase 1C (class I...</td>\n",
       "    </tr>\n",
       "    <tr>\n",
       "      <th>4</th>\n",
       "      <td>path:hsa00010</td>\n",
       "      <td>Glycolysis / Gluconeogenesis - Homo sapiens (h...</td>\n",
       "      <td>hsa:127</td>\n",
       "      <td>ADH4, ADH-2, HEL-S-4; alcohol dehydrogenase 4 ...</td>\n",
       "    </tr>\n",
       "    <tr>\n",
       "      <th>...</th>\n",
       "      <td>...</td>\n",
       "      <td>...</td>\n",
       "      <td>...</td>\n",
       "      <td>...</td>\n",
       "    </tr>\n",
       "    <tr>\n",
       "      <th>35375</th>\n",
       "      <td>path:hsa05418</td>\n",
       "      <td>Fluid shear stress and atherosclerosis - Homo ...</td>\n",
       "      <td>hsa:91860</td>\n",
       "      <td>CALML4, NY-BR-20; calmodulin like 4</td>\n",
       "    </tr>\n",
       "    <tr>\n",
       "      <th>35376</th>\n",
       "      <td>path:hsa05418</td>\n",
       "      <td>Fluid shear stress and atherosclerosis - Homo ...</td>\n",
       "      <td>hsa:92</td>\n",
       "      <td>ACVR2A, ACTRII, ACVR2; activin A receptor type 2A</td>\n",
       "    </tr>\n",
       "    <tr>\n",
       "      <th>35377</th>\n",
       "      <td>path:hsa05418</td>\n",
       "      <td>Fluid shear stress and atherosclerosis - Homo ...</td>\n",
       "      <td>hsa:93</td>\n",
       "      <td>ACVR2B, ACTRIIB, ActR-IIB, HTX4; activin A rec...</td>\n",
       "    </tr>\n",
       "    <tr>\n",
       "      <th>35378</th>\n",
       "      <td>path:hsa05418</td>\n",
       "      <td>Fluid shear stress and atherosclerosis - Homo ...</td>\n",
       "      <td>hsa:9446</td>\n",
       "      <td>GSTO1, GSTO_1-1, GSTTLp28, HEL-S-21, P28, SPG-...</td>\n",
       "    </tr>\n",
       "    <tr>\n",
       "      <th>35379</th>\n",
       "      <td>path:hsa05418</td>\n",
       "      <td>Fluid shear stress and atherosclerosis - Homo ...</td>\n",
       "      <td>hsa:9817</td>\n",
       "      <td>KEAP1, INrf2, KLHL19; kelch like ECH associate...</td>\n",
       "    </tr>\n",
       "  </tbody>\n",
       "</table>\n",
       "<p>35380 rows × 4 columns</p>\n",
       "</div>"
      ],
      "text/plain": [
       "          pathway_ID                                       pathway_name  \\\n",
       "0      path:hsa00010  Glycolysis / Gluconeogenesis - Homo sapiens (h...   \n",
       "1      path:hsa00010  Glycolysis / Gluconeogenesis - Homo sapiens (h...   \n",
       "2      path:hsa00010  Glycolysis / Gluconeogenesis - Homo sapiens (h...   \n",
       "3      path:hsa00010  Glycolysis / Gluconeogenesis - Homo sapiens (h...   \n",
       "4      path:hsa00010  Glycolysis / Gluconeogenesis - Homo sapiens (h...   \n",
       "...              ...                                                ...   \n",
       "35375  path:hsa05418  Fluid shear stress and atherosclerosis - Homo ...   \n",
       "35376  path:hsa05418  Fluid shear stress and atherosclerosis - Homo ...   \n",
       "35377  path:hsa05418  Fluid shear stress and atherosclerosis - Homo ...   \n",
       "35378  path:hsa05418  Fluid shear stress and atherosclerosis - Homo ...   \n",
       "35379  path:hsa05418  Fluid shear stress and atherosclerosis - Homo ...   \n",
       "\n",
       "         gene_ID                                          gene_name  \n",
       "0      hsa:10327  AKR1A1, ALDR1, ALR, ARM, DD3, HEL-S-6; aldo-ke...  \n",
       "1        hsa:124  ADH1A, ADH1; alcohol dehydrogenase 1A (class I...  \n",
       "2        hsa:125  ADH1B, ADH2, HEL-S-117; alcohol dehydrogenase ...  \n",
       "3        hsa:126  ADH1C, ADH3; alcohol dehydrogenase 1C (class I...  \n",
       "4        hsa:127  ADH4, ADH-2, HEL-S-4; alcohol dehydrogenase 4 ...  \n",
       "...          ...                                                ...  \n",
       "35375  hsa:91860                CALML4, NY-BR-20; calmodulin like 4  \n",
       "35376     hsa:92  ACVR2A, ACTRII, ACVR2; activin A receptor type 2A  \n",
       "35377     hsa:93  ACVR2B, ACTRIIB, ActR-IIB, HTX4; activin A rec...  \n",
       "35378   hsa:9446  GSTO1, GSTO_1-1, GSTTLp28, HEL-S-21, P28, SPG-...  \n",
       "35379   hsa:9817  KEAP1, INrf2, KLHL19; kelch like ECH associate...  \n",
       "\n",
       "[35380 rows x 4 columns]"
      ]
     },
     "execution_count": 11,
     "metadata": {},
     "output_type": "execute_result"
    }
   ],
   "source": [
    "pathway_gene_name = pathway_gene.merge(geneID_geneName, on = \"gene_ID\", how = \"left\")\n",
    "\n",
    "pathway_gene_name.shape #is the right shape \n",
    "\n",
    "pathway_gene_name.isnull().sum() #there are no NA values \n",
    "\n",
    "pathway_gene_name  #We now have a data frame that is all of the information about the gene ID, its name, and its assocaited pathways. "
   ]
  },
  {
   "cell_type": "code",
   "execution_count": 12,
   "id": "14420417-d634-4fab-a609-2fad9ab9f22e",
   "metadata": {},
   "outputs": [],
   "source": [
    "pathway_gene_name.to_csv(\"pathway_gene_info.csv\", index=False) \n",
    "#This is on the git hub repository "
   ]
  },
  {
   "cell_type": "markdown",
   "id": "d0c4b0a6-4225-4fab-8072-1a0cd2f9c1a3",
   "metadata": {},
   "source": [
    "## 2. Compute the number of overlapping genes between every 2 pathways.pathway_ID_list\n"
   ]
  },
  {
   "cell_type": "markdown",
   "id": "53e2472f-ad5d-4502-95b2-9c4c7adaf69f",
   "metadata": {},
   "source": [
    "### Function 1: Creates a dictionary with each pathway ID as the key and the gene_IDs in that pathway as the values. "
   ]
  },
  {
   "cell_type": "code",
   "execution_count": 13,
   "id": "8023fd48-ffd2-46a5-af98-f7f9a68af306",
   "metadata": {},
   "outputs": [],
   "source": [
    "\n",
    "\n",
    "def get_genes_for_pathways(pathways_df, genes_df):\n",
    "    \"\"\"\n",
    "    Create a dictionary with each pathway as the key and the list of genes within that pathway are the values \n",
    "    \n",
    "    input: A dataframe with pathway_IDs as the first column (not INDEX), \n",
    "           a dataframe with gene_IDs with gene_ID as the first column (not index),and gene description as the second column \n",
    "           \n",
    "    output: a dictionary with each pathway as the key and the list of genes within that pathway are the values \n",
    "    \"\"\"\n",
    "    pathways_genes_dictionary = {}    \n",
    "    for i in range(0, len(pathways_df.iloc[:,0])):\n",
    "        pathways_genes_dictionary[pathways_df.iloc[:,0][i]] = []\n",
    "            \n",
    "    for i in range(0, len(genes_df.iloc[:,0])):\n",
    "        pathways_genes_dictionary[genes_df.iloc[:,1][i]].append(genes_df.iloc[:,0][i])\n",
    "                                  \n",
    "    return pathways_genes_dictionary\n",
    "\n",
    "\n",
    "#Running the kegg pathway IDs and gene IDs through the function to create the dictionary \n",
    "pathways_genes_dictionary = get_genes_for_pathways(pathway_ID_list, pathway_to_gene)\n",
    "\n",
    "\n"
   ]
  },
  {
   "cell_type": "markdown",
   "id": "9f2e3b35-2bfc-4c36-8f1c-a8426ee2e2da",
   "metadata": {},
   "source": [
    "### Function 2: Creates a list of all possible pathway pairs "
   ]
  },
  {
   "cell_type": "code",
   "execution_count": 14,
   "id": "cb0abebb-7841-44ff-b049-ba7bbf36c9e8",
   "metadata": {
    "tags": []
   },
   "outputs": [
    {
     "name": "stdout",
     "output_type": "stream",
     "text": [
      "There are 59340 pathway combinations\n"
     ]
    }
   ],
   "source": [
    "\n",
    "def get_pathway_pairs(pathways):\n",
    "    \"\"\"\n",
    "    Create list of all possible pairs of pathways \n",
    "    \n",
    "    input: A dataframe with a column called \"pathway_ID\" that contains all pathway_IDs that will be used for combinations \n",
    "    \n",
    "    output: a list containing pairs of pathways \n",
    "        No pairs containing the same pathways ('pathway1', 'pathway1')\n",
    "        The pairs will not be repeated backwards (('pathway1', 'pathway2'), ('pathway2', 'pathway1))\n",
    "    \"\"\"\n",
    "    count = 0\n",
    "    index = 1\n",
    "    pathway_pairs = []\n",
    "    for i1 in pathways['pathway_ID']:\n",
    "        for i2 in pathways['pathway_ID'][index:]:\n",
    "            pathway_pairs.append((i1, i2))\n",
    "        index += 1\n",
    "\n",
    "    return pathway_pairs\n",
    "\n",
    "\n",
    "pathway_pairs = get_pathway_pairs(pathway_ID_list) # returns all the combo pairs for the KEGG data base \n",
    "\n",
    "print(f'There are {len(pathway_pairs)} pathway combinations')"
   ]
  },
  {
   "cell_type": "markdown",
   "id": "70863b7c-07f2-45e1-847c-0dc9004d318a",
   "metadata": {},
   "source": [
    "### Function 3 & 4: Finding the intersection between sets and finding overlapping genes "
   ]
  },
  {
   "cell_type": "code",
   "execution_count": 15,
   "id": "7732a92b-d45a-43d0-8587-303a01b3df53",
   "metadata": {
    "tags": []
   },
   "outputs": [],
   "source": [
    "#Function 3 \n",
    "def intersection(lst1, lst2): #returns the intersection of two sets \n",
    "    return list(set(lst1) & set(lst2))\n",
    "\n",
    "#function 4 \n",
    "def get_overlapping_genes(pathway_pairs, pathway_gene_dictionary): #takes the pathway combo pairs and the pathway_gene_dictionary from functions 1 and 2 as inputs\n",
    "    \n",
    "    '''\n",
    "    Creates a dictionary 'pairs_dictionary' where each pathway pair is a key, and the the genes in common between both pathways are the values\n",
    "    \n",
    "    '''\n",
    "    pairs_dictionary ={}\n",
    "    for i in range(0, len(pathway_pairs)):\n",
    "        genes_list_pathway1 = pathway_gene_dictionary[pathway_pairs[i][0]]\n",
    "        genes_list_pathway2 = pathway_gene_dictionary[pathway_pairs[i][1]]\n",
    "        pairs_dictionary[pathway_pairs[i]] = intersection(genes_list_pathway1, genes_list_pathway2)\n",
    "    return pairs_dictionary\n",
    "#Running the kegg functions through function 4 to get list of overlapping genes \n",
    "\n",
    "pair_dictionary = get_overlapping_genes(pathway_pairs,pathways_genes_dictionary)"
   ]
  },
  {
   "cell_type": "markdown",
   "id": "2bf09526-31fa-4a61-812e-c059667d5bb7",
   "metadata": {},
   "source": [
    "### Function 5, making a data frame\n",
    "\n",
    "2. Compute the number of overlapping genes between every 2 pathways.\n",
    "\n",
    " \n",
    "\n",
    "3. Save the result to a file KEGG_crosstalk.csv with the following columns: PATHWAY_ID1, PATHWAY_NAME1, PATHWAY_ID2, PATHWAY_NAME2. Order the results descending by the number of overlapping genes where PATHWAY_ID1 is different than PATHWAY_ID2.\n",
    "\n",
    " \n",
    "\n",
    "\n",
    "\n",
    " "
   ]
  },
  {
   "cell_type": "code",
   "execution_count": 16,
   "id": "0b59a69b-4aad-4d48-b9eb-2c2c1aa86cc8",
   "metadata": {},
   "outputs": [],
   "source": [
    "def create_pandas_dataframe(pair_dictionary):\n",
    "    #Create empty dataframe\n",
    "    final_df = pd.DataFrame()\n",
    "    \n",
    "    '''\n",
    "    returns a data frame containing the pathway pairs, the pathway IDs, the pathway names, the number of genes shared in both pathways, and the intersecting genes\n",
    "    \n",
    "    input: pair dictionary returned from function 4 \n",
    "    output: a data frame that does need to be cleaned furthur to get pathway names \n",
    "    \n",
    "    '''\n",
    "    \n",
    "    ids_1 = []\n",
    "    ids_2 = []\n",
    "    names_1 = []\n",
    "    names_2 = []\n",
    "    number_genes = []\n",
    "    overlap_list = []\n",
    "    \n",
    "    for key in pair_dictionary:\n",
    "        ids_1.append(key[0])\n",
    "        ids_2.append(key[1])\n",
    "        number_genes.append(len(pair_dictionary[key]))\n",
    "        overlap_list.append(pair_dictionary[key])\n",
    "        \n",
    "    final_df['PATHWAY_ID1'] = ids_1\n",
    "    final_df['PATHWAY_ID2'] = ids_2\n",
    "    final_df['NUMBER_OF_OVERLAPPING_GENES'] = number_genes\n",
    "    final_df['LIST_OF_OVERLAPPING_GENES'] = overlap_list\n",
    "    \n",
    "    return final_df\n"
   ]
  },
  {
   "cell_type": "markdown",
   "id": "c2b65e5e-3f39-4f9e-8e3c-903b1702c816",
   "metadata": {},
   "source": [
    "### Cleaning up the data frame "
   ]
  },
  {
   "cell_type": "code",
   "execution_count": 17,
   "id": "5cad69f9-0be0-4d1c-9981-22c77233e447",
   "metadata": {},
   "outputs": [],
   "source": [
    "pair_dict_DF = create_pandas_dataframe(pair_dictionary) #Running the pairs dictionary to the create data frame function"
   ]
  },
  {
   "cell_type": "code",
   "execution_count": 18,
   "id": "e33e8077-2d8a-4156-9f26-38c3edc41f74",
   "metadata": {},
   "outputs": [
    {
     "data": {
      "text/html": [
       "<div>\n",
       "<style scoped>\n",
       "    .dataframe tbody tr th:only-of-type {\n",
       "        vertical-align: middle;\n",
       "    }\n",
       "\n",
       "    .dataframe tbody tr th {\n",
       "        vertical-align: top;\n",
       "    }\n",
       "\n",
       "    .dataframe thead th {\n",
       "        text-align: right;\n",
       "    }\n",
       "</style>\n",
       "<table border=\"1\" class=\"dataframe\">\n",
       "  <thead>\n",
       "    <tr style=\"text-align: right;\">\n",
       "      <th></th>\n",
       "      <th>PATHWAY_ID1</th>\n",
       "      <th>PATHWAY_ID2</th>\n",
       "      <th>NUMBER_OF_OVERLAPPING_GENES</th>\n",
       "      <th>LIST_OF_OVERLAPPING_GENES</th>\n",
       "      <th>pathway_ID_x</th>\n",
       "      <th>pathway_name_x</th>\n",
       "      <th>pathway_ID_y</th>\n",
       "      <th>pathway_name_y</th>\n",
       "    </tr>\n",
       "  </thead>\n",
       "  <tbody>\n",
       "    <tr>\n",
       "      <th>0</th>\n",
       "      <td>path:hsa00010</td>\n",
       "      <td>path:hsa00020</td>\n",
       "      <td>7</td>\n",
       "      <td>[hsa:5162, hsa:1737, hsa:5106, hsa:5161, hsa:5...</td>\n",
       "      <td>path:hsa00010</td>\n",
       "      <td>Glycolysis / Gluconeogenesis - Homo sapiens (h...</td>\n",
       "      <td>path:hsa00020</td>\n",
       "      <td>Citrate cycle (TCA cycle) - Homo sapiens (human)</td>\n",
       "    </tr>\n",
       "    <tr>\n",
       "      <th>1</th>\n",
       "      <td>path:hsa00010</td>\n",
       "      <td>path:hsa00030</td>\n",
       "      <td>11</td>\n",
       "      <td>[hsa:55276, hsa:226, hsa:5211, hsa:229, hsa:28...</td>\n",
       "      <td>path:hsa00010</td>\n",
       "      <td>Glycolysis / Gluconeogenesis - Homo sapiens (h...</td>\n",
       "      <td>path:hsa00030</td>\n",
       "      <td>Pentose phosphate pathway - Homo sapiens (human)</td>\n",
       "    </tr>\n",
       "    <tr>\n",
       "      <th>2</th>\n",
       "      <td>path:hsa00010</td>\n",
       "      <td>path:hsa00040</td>\n",
       "      <td>1</td>\n",
       "      <td>[hsa:10327]</td>\n",
       "      <td>path:hsa00010</td>\n",
       "      <td>Glycolysis / Gluconeogenesis - Homo sapiens (h...</td>\n",
       "      <td>path:hsa00040</td>\n",
       "      <td>Pentose and glucuronate interconversions - Hom...</td>\n",
       "    </tr>\n",
       "    <tr>\n",
       "      <th>3</th>\n",
       "      <td>path:hsa00010</td>\n",
       "      <td>path:hsa00051</td>\n",
       "      <td>13</td>\n",
       "      <td>[hsa:3098, hsa:226, hsa:5211, hsa:229, hsa:310...</td>\n",
       "      <td>path:hsa00010</td>\n",
       "      <td>Glycolysis / Gluconeogenesis - Homo sapiens (h...</td>\n",
       "      <td>path:hsa00051</td>\n",
       "      <td>Fructose and mannose metabolism - Homo sapiens...</td>\n",
       "    </tr>\n",
       "    <tr>\n",
       "      <th>4</th>\n",
       "      <td>path:hsa00010</td>\n",
       "      <td>path:hsa00052</td>\n",
       "      <td>14</td>\n",
       "      <td>[hsa:57818, hsa:3098, hsa:130589, hsa:5211, hs...</td>\n",
       "      <td>path:hsa00010</td>\n",
       "      <td>Glycolysis / Gluconeogenesis - Homo sapiens (h...</td>\n",
       "      <td>path:hsa00052</td>\n",
       "      <td>Galactose metabolism - Homo sapiens (human)</td>\n",
       "    </tr>\n",
       "  </tbody>\n",
       "</table>\n",
       "</div>"
      ],
      "text/plain": [
       "     PATHWAY_ID1    PATHWAY_ID2  NUMBER_OF_OVERLAPPING_GENES  \\\n",
       "0  path:hsa00010  path:hsa00020                            7   \n",
       "1  path:hsa00010  path:hsa00030                           11   \n",
       "2  path:hsa00010  path:hsa00040                            1   \n",
       "3  path:hsa00010  path:hsa00051                           13   \n",
       "4  path:hsa00010  path:hsa00052                           14   \n",
       "\n",
       "                           LIST_OF_OVERLAPPING_GENES   pathway_ID_x  \\\n",
       "0  [hsa:5162, hsa:1737, hsa:5106, hsa:5161, hsa:5...  path:hsa00010   \n",
       "1  [hsa:55276, hsa:226, hsa:5211, hsa:229, hsa:28...  path:hsa00010   \n",
       "2                                        [hsa:10327]  path:hsa00010   \n",
       "3  [hsa:3098, hsa:226, hsa:5211, hsa:229, hsa:310...  path:hsa00010   \n",
       "4  [hsa:57818, hsa:3098, hsa:130589, hsa:5211, hs...  path:hsa00010   \n",
       "\n",
       "                                      pathway_name_x   pathway_ID_y  \\\n",
       "0  Glycolysis / Gluconeogenesis - Homo sapiens (h...  path:hsa00020   \n",
       "1  Glycolysis / Gluconeogenesis - Homo sapiens (h...  path:hsa00030   \n",
       "2  Glycolysis / Gluconeogenesis - Homo sapiens (h...  path:hsa00040   \n",
       "3  Glycolysis / Gluconeogenesis - Homo sapiens (h...  path:hsa00051   \n",
       "4  Glycolysis / Gluconeogenesis - Homo sapiens (h...  path:hsa00052   \n",
       "\n",
       "                                      pathway_name_y  \n",
       "0   Citrate cycle (TCA cycle) - Homo sapiens (human)  \n",
       "1   Pentose phosphate pathway - Homo sapiens (human)  \n",
       "2  Pentose and glucuronate interconversions - Hom...  \n",
       "3  Fructose and mannose metabolism - Homo sapiens...  \n",
       "4        Galactose metabolism - Homo sapiens (human)  "
      ]
     },
     "execution_count": 18,
     "metadata": {},
     "output_type": "execute_result"
    }
   ],
   "source": [
    "#merging the pathway names into the final data frame using a left merge. Adds new columm, pathway_name_x that is the pathway name for pathway_ID1\n",
    "pathway1_names = pair_dict_DF.merge(pathway_ID_list ,left_on  = \"PATHWAY_ID1\", right_on = \"pathway_ID\" ,how = \"left\")\n",
    "#merging the pathway names into the final data frame using a left merge. Adds new columm, pathway_name_y that is the pathway name for pathway_ID2\n",
    "pathway_1_2_names = pathway1_names.merge(pathway_ID_list ,left_on  = \"PATHWAY_ID2\", right_on = \"pathway_ID\" ,how = \"left\")\n",
    "\n",
    "pathway_1_2_names.head()"
   ]
  },
  {
   "cell_type": "markdown",
   "id": "f4d0e83a-9dc8-49b6-87c3-c7dfc9c16fbf",
   "metadata": {},
   "source": [
    "## 3. Save the result to a file KEGG_crosstalk.csv with the following columns: PATHWAY_ID1, PATHWAY_NAME1, PATHWAY_ID2, PATHWAY_NAME2. Order the results descending by the number of overlapping genes where PATHWAY_ID1 is different than PATHWAY_ID2."
   ]
  },
  {
   "cell_type": "code",
   "execution_count": 19,
   "id": "024e9401-29e5-445f-99b3-18b6a59169ae",
   "metadata": {},
   "outputs": [
    {
     "data": {
      "text/html": [
       "<div>\n",
       "<style scoped>\n",
       "    .dataframe tbody tr th:only-of-type {\n",
       "        vertical-align: middle;\n",
       "    }\n",
       "\n",
       "    .dataframe tbody tr th {\n",
       "        vertical-align: top;\n",
       "    }\n",
       "\n",
       "    .dataframe thead th {\n",
       "        text-align: right;\n",
       "    }\n",
       "</style>\n",
       "<table border=\"1\" class=\"dataframe\">\n",
       "  <thead>\n",
       "    <tr style=\"text-align: right;\">\n",
       "      <th></th>\n",
       "      <th>PATHWAY_ID1</th>\n",
       "      <th>PATHWAY_NAME1</th>\n",
       "      <th>PATHWAY_ID2</th>\n",
       "      <th>PATHWAY_NAME2</th>\n",
       "      <th>NUMBER_OF_OVERLAPPING_GENES</th>\n",
       "      <th>LIST_OF_OVERLAPPING_GENES</th>\n",
       "    </tr>\n",
       "  </thead>\n",
       "  <tbody>\n",
       "    <tr>\n",
       "      <th>0</th>\n",
       "      <td>path:hsa00010</td>\n",
       "      <td>Glycolysis / Gluconeogenesis - Homo sapiens (h...</td>\n",
       "      <td>path:hsa00020</td>\n",
       "      <td>Citrate cycle (TCA cycle) - Homo sapiens (human)</td>\n",
       "      <td>7</td>\n",
       "      <td>[hsa:5162, hsa:1737, hsa:5106, hsa:5161, hsa:5...</td>\n",
       "    </tr>\n",
       "    <tr>\n",
       "      <th>1</th>\n",
       "      <td>path:hsa00010</td>\n",
       "      <td>Glycolysis / Gluconeogenesis - Homo sapiens (h...</td>\n",
       "      <td>path:hsa00030</td>\n",
       "      <td>Pentose phosphate pathway - Homo sapiens (human)</td>\n",
       "      <td>11</td>\n",
       "      <td>[hsa:55276, hsa:226, hsa:5211, hsa:229, hsa:28...</td>\n",
       "    </tr>\n",
       "    <tr>\n",
       "      <th>2</th>\n",
       "      <td>path:hsa00010</td>\n",
       "      <td>Glycolysis / Gluconeogenesis - Homo sapiens (h...</td>\n",
       "      <td>path:hsa00040</td>\n",
       "      <td>Pentose and glucuronate interconversions - Hom...</td>\n",
       "      <td>1</td>\n",
       "      <td>[hsa:10327]</td>\n",
       "    </tr>\n",
       "    <tr>\n",
       "      <th>3</th>\n",
       "      <td>path:hsa00010</td>\n",
       "      <td>Glycolysis / Gluconeogenesis - Homo sapiens (h...</td>\n",
       "      <td>path:hsa00051</td>\n",
       "      <td>Fructose and mannose metabolism - Homo sapiens...</td>\n",
       "      <td>13</td>\n",
       "      <td>[hsa:3098, hsa:226, hsa:5211, hsa:229, hsa:310...</td>\n",
       "    </tr>\n",
       "    <tr>\n",
       "      <th>4</th>\n",
       "      <td>path:hsa00010</td>\n",
       "      <td>Glycolysis / Gluconeogenesis - Homo sapiens (h...</td>\n",
       "      <td>path:hsa00052</td>\n",
       "      <td>Galactose metabolism - Homo sapiens (human)</td>\n",
       "      <td>14</td>\n",
       "      <td>[hsa:57818, hsa:3098, hsa:130589, hsa:5211, hs...</td>\n",
       "    </tr>\n",
       "  </tbody>\n",
       "</table>\n",
       "</div>"
      ],
      "text/plain": [
       "     PATHWAY_ID1                                      PATHWAY_NAME1  \\\n",
       "0  path:hsa00010  Glycolysis / Gluconeogenesis - Homo sapiens (h...   \n",
       "1  path:hsa00010  Glycolysis / Gluconeogenesis - Homo sapiens (h...   \n",
       "2  path:hsa00010  Glycolysis / Gluconeogenesis - Homo sapiens (h...   \n",
       "3  path:hsa00010  Glycolysis / Gluconeogenesis - Homo sapiens (h...   \n",
       "4  path:hsa00010  Glycolysis / Gluconeogenesis - Homo sapiens (h...   \n",
       "\n",
       "     PATHWAY_ID2                                      PATHWAY_NAME2  \\\n",
       "0  path:hsa00020   Citrate cycle (TCA cycle) - Homo sapiens (human)   \n",
       "1  path:hsa00030   Pentose phosphate pathway - Homo sapiens (human)   \n",
       "2  path:hsa00040  Pentose and glucuronate interconversions - Hom...   \n",
       "3  path:hsa00051  Fructose and mannose metabolism - Homo sapiens...   \n",
       "4  path:hsa00052        Galactose metabolism - Homo sapiens (human)   \n",
       "\n",
       "   NUMBER_OF_OVERLAPPING_GENES  \\\n",
       "0                            7   \n",
       "1                           11   \n",
       "2                            1   \n",
       "3                           13   \n",
       "4                           14   \n",
       "\n",
       "                           LIST_OF_OVERLAPPING_GENES  \n",
       "0  [hsa:5162, hsa:1737, hsa:5106, hsa:5161, hsa:5...  \n",
       "1  [hsa:55276, hsa:226, hsa:5211, hsa:229, hsa:28...  \n",
       "2                                        [hsa:10327]  \n",
       "3  [hsa:3098, hsa:226, hsa:5211, hsa:229, hsa:310...  \n",
       "4  [hsa:57818, hsa:3098, hsa:130589, hsa:5211, hs...  "
      ]
     },
     "execution_count": 19,
     "metadata": {},
     "output_type": "execute_result"
    }
   ],
   "source": [
    "#making the final csv file \n",
    "\n",
    "#removing just the columns I want for furthur analysis, changing the order of the columns \n",
    "cols = [\"PATHWAY_ID1\", \"pathway_name_x\",\"PATHWAY_ID2\", \"pathway_name_y\", \"NUMBER_OF_OVERLAPPING_GENES\", \"LIST_OF_OVERLAPPING_GENES\"]\n",
    "KEGG_crosstalk =pathway_1_2_names[cols]\n",
    "\n",
    "#renaming the columns \n",
    "KEGG_crosstalk.columns = ['PATHWAY_ID1', 'PATHWAY_NAME1', 'PATHWAY_ID2', 'PATHWAY_NAME2','NUMBER_OF_OVERLAPPING_GENES', 'LIST_OF_OVERLAPPING_GENES']\n",
    "KEGG_crosstalk.head()\n"
   ]
  },
  {
   "cell_type": "code",
   "execution_count": 20,
   "id": "4d77a70a-57ce-4a20-80bd-6f500074dabf",
   "metadata": {},
   "outputs": [],
   "source": [
    "#saving the result to a csv file in the git hub repository. \n",
    "#see repository for final version of csv file \n",
    "KEGG_crosstalk.to_csv(\"KEGG_crosstalk.csv\", index=False)"
   ]
  },
  {
   "cell_type": "markdown",
   "id": "2403d7d5-1332-4ba6-922f-dd61fdb4bf13",
   "metadata": {},
   "source": [
    "## 4. Compute a rank of the genes based on how many pathways they appear on and save it to a file."
   ]
  },
  {
   "cell_type": "markdown",
   "id": "97a68c68-814f-4ee9-8d8b-5d33705ae338",
   "metadata": {},
   "source": [
    "### Function 1. Commputing the map and the set of pathways the gene is in \n"
   ]
  },
  {
   "cell_type": "code",
   "execution_count": 21,
   "id": "08c53452-e5db-4666-ae2a-914634be3e7a",
   "metadata": {},
   "outputs": [],
   "source": [
    "def get_map_gene_pathways(links_gene_pathway): \n",
    "    \"\"\"\n",
    "    Compute the map of each gene and the set of pathways the gene is in.\n",
    "\n",
    "    Parameters:\n",
    "    links_gene_pathway (pandas.DataFrame): The dataframe of links between genes and pathways.\n",
    "\n",
    "    Returns:\n",
    "    map_gene_pathways (dict): The map of each gene and the set of pathways the gene is in.\n",
    "\n",
    "    \"\"\"\n",
    "    map_gene_pathways_info = links_gene_pathway.set_index(\"gene_ID\").groupby(level = 0).apply(lambda pathways: list(pathways.pathway_ID))\n",
    "    map_gene_pathways = dict(map_gene_pathways_info)\n",
    "    return map_gene_pathways\n",
    "\n",
    "def count_pathway(gene_ID, map_gene_pathways):\n",
    "    \"\"\"\n",
    "    Count the number of pathways the given gene is in.\n",
    "\n",
    "    Parameters:\n",
    "    gene_ID (str): The KEGG ID of the gene.\n",
    "    map_gene_pathways (dict): The map of each gene and the set of pathways the gene is in, which is generated by get_map_gene_pathways function.\n",
    "\n",
    "    Returns:\n",
    "    pathway_count (int): The number of pathways the given gene is in.\n",
    "\n",
    "    \"\"\"\n",
    "    pathways = map_gene_pathways[gene_ID]\n",
    "    pathway_count = len(pathways)\n",
    "    return pathway_count\n",
    "\n",
    "def get_gene_name(gene_ID, gene_name_info):\n",
    "    \"\"\"\n",
    "    get the name of the given gene.\n",
    "\n",
    "    Parameters:\n",
    "    gene_ID (str): The KEGG ID of the gene.\n",
    "    gene_name_info (pandas.DataFrame): The dataframe of KEGG ID and names of all genes.\n",
    "\n",
    "    Returns:\n",
    "    gene_name (str): The name of the given gene.\n",
    "\n",
    "    \"\"\"\n",
    "    gene_name = gene_name_info.gene_name[gene_name_info.gene_ID == gene_ID]\n",
    "    return gene_name\n",
    "\n",
    "def get_pathway_name(pathway_ID, pathway_name_info): \n",
    "    \"\"\"\n",
    "    get the name of the given pathway.\n",
    "\n",
    "    Parameters:\n",
    "    pathway_ID (str): The KEGG ID of the pathway.\n",
    "    pathway_name_info (pandas.DataFrame): The dataframe of KEGG ID and names of all pathways.\n",
    "\n",
    "    Returns:\n",
    "    pathway_name (str): The name of the given pathway.\n",
    "\n",
    "    \"\"\"\n",
    "    pathway_name = pathway_name_info.pathway_name[pathway_name_info.pathway_ID == pathway_ID]\n",
    "    return pathway_name"
   ]
  },
  {
   "cell_type": "markdown",
   "id": "149b2e33-fa19-4520-8b09-47edd63292dd",
   "metadata": {},
   "source": [
    "### Saving it to a file \"Gene_rank.csv\""
   ]
  },
  {
   "cell_type": "code",
   "execution_count": 22,
   "id": "ed2c8cf1-57ff-4bde-8ab6-d5c97aebe659",
   "metadata": {},
   "outputs": [
    {
     "data": {
      "text/html": [
       "<div>\n",
       "<style scoped>\n",
       "    .dataframe tbody tr th:only-of-type {\n",
       "        vertical-align: middle;\n",
       "    }\n",
       "\n",
       "    .dataframe tbody tr th {\n",
       "        vertical-align: top;\n",
       "    }\n",
       "\n",
       "    .dataframe thead th {\n",
       "        text-align: right;\n",
       "    }\n",
       "</style>\n",
       "<table border=\"1\" class=\"dataframe\">\n",
       "  <thead>\n",
       "    <tr style=\"text-align: right;\">\n",
       "      <th></th>\n",
       "      <th>gene_ID</th>\n",
       "      <th>pathway_count</th>\n",
       "      <th>pathway_IDs</th>\n",
       "    </tr>\n",
       "  </thead>\n",
       "  <tbody>\n",
       "    <tr>\n",
       "      <th>5214</th>\n",
       "      <td>hsa:5594</td>\n",
       "      <td>117</td>\n",
       "      <td>[path:hsa01521, path:hsa01522, path:hsa01524, ...</td>\n",
       "    </tr>\n",
       "    <tr>\n",
       "      <th>5215</th>\n",
       "      <td>hsa:5595</td>\n",
       "      <td>117</td>\n",
       "      <td>[path:hsa01521, path:hsa01522, path:hsa01524, ...</td>\n",
       "    </tr>\n",
       "    <tr>\n",
       "      <th>4745</th>\n",
       "      <td>hsa:5290</td>\n",
       "      <td>106</td>\n",
       "      <td>[path:hsa00562, path:hsa01100, path:hsa01521, ...</td>\n",
       "    </tr>\n",
       "    <tr>\n",
       "      <th>4746</th>\n",
       "      <td>hsa:5291</td>\n",
       "      <td>106</td>\n",
       "      <td>[path:hsa00562, path:hsa01100, path:hsa01521, ...</td>\n",
       "    </tr>\n",
       "    <tr>\n",
       "      <th>4748</th>\n",
       "      <td>hsa:5293</td>\n",
       "      <td>106</td>\n",
       "      <td>[path:hsa00562, path:hsa01100, path:hsa01521, ...</td>\n",
       "    </tr>\n",
       "    <tr>\n",
       "      <th>4751</th>\n",
       "      <td>hsa:5296</td>\n",
       "      <td>103</td>\n",
       "      <td>[path:hsa01521, path:hsa01522, path:hsa01524, ...</td>\n",
       "    </tr>\n",
       "    <tr>\n",
       "      <th>7302</th>\n",
       "      <td>hsa:8503</td>\n",
       "      <td>103</td>\n",
       "      <td>[path:hsa01521, path:hsa01522, path:hsa01524, ...</td>\n",
       "    </tr>\n",
       "    <tr>\n",
       "      <th>4750</th>\n",
       "      <td>hsa:5295</td>\n",
       "      <td>103</td>\n",
       "      <td>[path:hsa01521, path:hsa01522, path:hsa01524, ...</td>\n",
       "    </tr>\n",
       "    <tr>\n",
       "      <th>3</th>\n",
       "      <td>hsa:10000</td>\n",
       "      <td>100</td>\n",
       "      <td>[path:hsa01521, path:hsa01522, path:hsa01524, ...</td>\n",
       "    </tr>\n",
       "    <tr>\n",
       "      <th>1644</th>\n",
       "      <td>hsa:207</td>\n",
       "      <td>100</td>\n",
       "      <td>[path:hsa01521, path:hsa01522, path:hsa01524, ...</td>\n",
       "    </tr>\n",
       "  </tbody>\n",
       "</table>\n",
       "</div>"
      ],
      "text/plain": [
       "        gene_ID  pathway_count  \\\n",
       "5214   hsa:5594            117   \n",
       "5215   hsa:5595            117   \n",
       "4745   hsa:5290            106   \n",
       "4746   hsa:5291            106   \n",
       "4748   hsa:5293            106   \n",
       "4751   hsa:5296            103   \n",
       "7302   hsa:8503            103   \n",
       "4750   hsa:5295            103   \n",
       "3     hsa:10000            100   \n",
       "1644    hsa:207            100   \n",
       "\n",
       "                                            pathway_IDs  \n",
       "5214  [path:hsa01521, path:hsa01522, path:hsa01524, ...  \n",
       "5215  [path:hsa01521, path:hsa01522, path:hsa01524, ...  \n",
       "4745  [path:hsa00562, path:hsa01100, path:hsa01521, ...  \n",
       "4746  [path:hsa00562, path:hsa01100, path:hsa01521, ...  \n",
       "4748  [path:hsa00562, path:hsa01100, path:hsa01521, ...  \n",
       "4751  [path:hsa01521, path:hsa01522, path:hsa01524, ...  \n",
       "7302  [path:hsa01521, path:hsa01522, path:hsa01524, ...  \n",
       "4750  [path:hsa01521, path:hsa01522, path:hsa01524, ...  \n",
       "3     [path:hsa01521, path:hsa01522, path:hsa01524, ...  \n",
       "1644  [path:hsa01521, path:hsa01522, path:hsa01524, ...  "
      ]
     },
     "execution_count": 22,
     "metadata": {},
     "output_type": "execute_result"
    }
   ],
   "source": [
    "# create a dictionary with genes as keys and pathways as values using information of links between genes and pathways\n",
    "map_gene_pathways = get_map_gene_pathways(pathway_to_gene)\n",
    "\n",
    "# count the number of pathways of each gene\n",
    "pathway_counts = {\"gene_ID\": map_gene_pathways.keys(), \n",
    "                  \"pathway_count\": [count_pathway(gene_ID, map_gene_pathways) for gene_ID in map_gene_pathways.keys()], \n",
    "                  \"pathway_IDs\": map_gene_pathways.values()}\n",
    "pathway_counts = pd.DataFrame(pathway_counts).sort_values(\"pathway_count\", ascending = False)\n",
    "pathway_counts.iloc[:10, ]\n"
   ]
  },
  {
   "cell_type": "code",
   "execution_count": 23,
   "id": "8ba31420-8493-45b5-a60b-ba4961a82a07",
   "metadata": {},
   "outputs": [],
   "source": [
    "pathway_counts.iloc[:,:2].to_csv(\"Gene_rank.csv\", index = False)#Saving to a file, see repository for final version "
   ]
  },
  {
   "cell_type": "markdown",
   "id": "4a201712-e7fb-489d-9843-915967f5152a",
   "metadata": {},
   "source": [
    "## 5. Retrieve a set of the pathways the top 3 genes appear on."
   ]
  },
  {
   "cell_type": "code",
   "execution_count": 24,
   "id": "0356f86b-440e-45af-b5b8-23f730ab5eec",
   "metadata": {},
   "outputs": [
    {
     "data": {
      "text/html": [
       "<div>\n",
       "<style scoped>\n",
       "    .dataframe tbody tr th:only-of-type {\n",
       "        vertical-align: middle;\n",
       "    }\n",
       "\n",
       "    .dataframe tbody tr th {\n",
       "        vertical-align: top;\n",
       "    }\n",
       "\n",
       "    .dataframe thead th {\n",
       "        text-align: right;\n",
       "    }\n",
       "</style>\n",
       "<table border=\"1\" class=\"dataframe\">\n",
       "  <thead>\n",
       "    <tr style=\"text-align: right;\">\n",
       "      <th></th>\n",
       "      <th>gene_ID</th>\n",
       "      <th>pathway_count</th>\n",
       "      <th>pathway_IDs</th>\n",
       "    </tr>\n",
       "  </thead>\n",
       "  <tbody>\n",
       "    <tr>\n",
       "      <th>5214</th>\n",
       "      <td>hsa:5594</td>\n",
       "      <td>117</td>\n",
       "      <td>[path:hsa01521, path:hsa01522, path:hsa01524, ...</td>\n",
       "    </tr>\n",
       "    <tr>\n",
       "      <th>5215</th>\n",
       "      <td>hsa:5595</td>\n",
       "      <td>117</td>\n",
       "      <td>[path:hsa01521, path:hsa01522, path:hsa01524, ...</td>\n",
       "    </tr>\n",
       "    <tr>\n",
       "      <th>4745</th>\n",
       "      <td>hsa:5290</td>\n",
       "      <td>106</td>\n",
       "      <td>[path:hsa00562, path:hsa01100, path:hsa01521, ...</td>\n",
       "    </tr>\n",
       "    <tr>\n",
       "      <th>4746</th>\n",
       "      <td>hsa:5291</td>\n",
       "      <td>106</td>\n",
       "      <td>[path:hsa00562, path:hsa01100, path:hsa01521, ...</td>\n",
       "    </tr>\n",
       "    <tr>\n",
       "      <th>4748</th>\n",
       "      <td>hsa:5293</td>\n",
       "      <td>106</td>\n",
       "      <td>[path:hsa00562, path:hsa01100, path:hsa01521, ...</td>\n",
       "    </tr>\n",
       "    <tr>\n",
       "      <th>4751</th>\n",
       "      <td>hsa:5296</td>\n",
       "      <td>103</td>\n",
       "      <td>[path:hsa01521, path:hsa01522, path:hsa01524, ...</td>\n",
       "    </tr>\n",
       "    <tr>\n",
       "      <th>7302</th>\n",
       "      <td>hsa:8503</td>\n",
       "      <td>103</td>\n",
       "      <td>[path:hsa01521, path:hsa01522, path:hsa01524, ...</td>\n",
       "    </tr>\n",
       "    <tr>\n",
       "      <th>4750</th>\n",
       "      <td>hsa:5295</td>\n",
       "      <td>103</td>\n",
       "      <td>[path:hsa01521, path:hsa01522, path:hsa01524, ...</td>\n",
       "    </tr>\n",
       "  </tbody>\n",
       "</table>\n",
       "</div>"
      ],
      "text/plain": [
       "       gene_ID  pathway_count  \\\n",
       "5214  hsa:5594            117   \n",
       "5215  hsa:5595            117   \n",
       "4745  hsa:5290            106   \n",
       "4746  hsa:5291            106   \n",
       "4748  hsa:5293            106   \n",
       "4751  hsa:5296            103   \n",
       "7302  hsa:8503            103   \n",
       "4750  hsa:5295            103   \n",
       "\n",
       "                                            pathway_IDs  \n",
       "5214  [path:hsa01521, path:hsa01522, path:hsa01524, ...  \n",
       "5215  [path:hsa01521, path:hsa01522, path:hsa01524, ...  \n",
       "4745  [path:hsa00562, path:hsa01100, path:hsa01521, ...  \n",
       "4746  [path:hsa00562, path:hsa01100, path:hsa01521, ...  \n",
       "4748  [path:hsa00562, path:hsa01100, path:hsa01521, ...  \n",
       "4751  [path:hsa01521, path:hsa01522, path:hsa01524, ...  \n",
       "7302  [path:hsa01521, path:hsa01522, path:hsa01524, ...  \n",
       "4750  [path:hsa01521, path:hsa01522, path:hsa01524, ...  "
      ]
     },
     "execution_count": 24,
     "metadata": {},
     "output_type": "execute_result"
    }
   ],
   "source": [
    "genes_want = pathway_counts.iloc[:8, :]\n",
    "genes_want"
   ]
  },
  {
   "cell_type": "markdown",
   "id": "edc85fa7-bbf6-4cfb-9e28-c073c8a29792",
   "metadata": {},
   "source": [
    "## 6. Compute and display a Venn diagram for number of overlapping pathways for the top 3 genes."
   ]
  },
  {
   "cell_type": "code",
   "execution_count": 25,
   "id": "6947c9a3-1a0e-41c2-a9f0-2666ece617e1",
   "metadata": {},
   "outputs": [],
   "source": [
    "from matplotlib_venn import venn2\n",
    "from matplotlib_venn import venn3\n",
    "from matplotlib import pyplot as plt"
   ]
  },
  {
   "cell_type": "code",
   "execution_count": 26,
   "id": "18a77776-aac4-4f13-bc0a-589b927f1f6b",
   "metadata": {
    "tags": []
   },
   "outputs": [
    {
     "data": {
      "text/plain": [
       "dict_keys(['hsa:5594', 'hsa:5595', 'hsa:5290', 'hsa:5291', 'hsa:5293', 'hsa:5296', 'hsa:8503', 'hsa:5295'])"
      ]
     },
     "execution_count": 26,
     "metadata": {},
     "output_type": "execute_result"
    }
   ],
   "source": [
    "#creating a dictionary I can call by gene name to get pathways for the benn diagrams\n",
    "value_dictionary = {}\n",
    "\n",
    "for i in range(0,len(genes_want)):\n",
    "    value_dictionary[(genes_want.iloc[i, 0])] = (genes_want.iloc[i, 2])\n",
    "value_dictionary.keys()"
   ]
  },
  {
   "cell_type": "code",
   "execution_count": 27,
   "id": "01eaf5d8-5f81-4c7a-a000-879e0ba0b7d6",
   "metadata": {},
   "outputs": [
    {
     "data": {
      "image/png": "[encoded data removed]",
      "text/plain": [
       "<Figure size 432x288 with 1 Axes>"
      ]
     },
     "metadata": {},
     "output_type": "display_data"
    }
   ],
   "source": [
    "#below are the three individual Venn Diagrams to show there is no over-lap between the \n",
    "#genes that have the same number of pathways. \n",
    "\n",
    "#Genes that appear in 117 pathways, hsa:5594 & hsa:5595, are present in all the same pathways \n",
    "\n",
    "set1 = set(value_dictionary['hsa:5594'])\n",
    "set2 = set(value_dictionary['hsa:5595'])\n",
    "venn2([set1, set2], (\"Gene_ID: hsa:5594, \", \"Gene_ID: hsa:5595\"), alpha = 0.7)\n",
    "plt.title(\"Pathway Overlap for Genes in 117 pathways\")\n",
    "plt.show()"
   ]
  },
  {
   "cell_type": "code",
   "execution_count": 28,
   "id": "004c98bd-880b-4bb1-83a4-41f534ddd04c",
   "metadata": {},
   "outputs": [
    {
     "data": {
      "image/png": "[encoded data removed]",
      "text/plain": [
       "<Figure size 432x288 with 1 Axes>"
      ]
     },
     "metadata": {},
     "output_type": "display_data"
    }
   ],
   "source": [
    "#below are the three individual Venn Diagrams to show there is no over-lap between the \n",
    "#genes that have the same number of pathways. \n",
    "\n",
    "#Genes that appear in 106 pathways, hsa:5290 & hsa:5293 & hsa: 5291, are present in all the same pathways \n",
    "\n",
    "set1 = set(value_dictionary['hsa:5290'])\n",
    "set2 = set(value_dictionary['hsa:5293'])\n",
    "set3 = set(value_dictionary['hsa:5291'])\n",
    "venn3([set1, set2, set3], (\"Gene_ID: hsa:5290\",\"Gene_ID: hsa:5291\", \"Gene_ID: hsa:5293\"), alpha = 0.7)\n",
    "plt.title(\"Pathway Overlap for Genes in 106 pathways\")\n",
    "plt.show()"
   ]
  },
  {
   "cell_type": "code",
   "execution_count": 29,
   "id": "77659987-a19c-425e-aa06-2115c948132a",
   "metadata": {},
   "outputs": [
    {
     "data": {
      "image/png": "[encoded data removed]",
      "text/plain": [
       "<Figure size 432x288 with 1 Axes>"
      ]
     },
     "metadata": {},
     "output_type": "display_data"
    }
   ],
   "source": [
    "#below are the three individual Venn Diagrams to show there is no over-lap between the \n",
    "#genes that have the same number of pathways. \n",
    "\n",
    "#Genes that appear in 103 pathways, hsa:5290 & hsa:5293 & hsa: 5291, are present in all the same pathways \n",
    "\n",
    "set1 = set(value_dictionary['hsa:5295'])\n",
    "set2 = set(value_dictionary['hsa:5296'])\n",
    "set3 = set(value_dictionary['hsa:8503'])\n",
    "venn3([set1, set2, set3], (\"Gene-ID: hsa:5295\", \"Gene_ID: hsa:5296\", \"Gene_ID: hsa:8503\"), alpha = 0.7)\n",
    "plt.title(\"Pathway Overlap for Genes in 103 pathways\")\n",
    "plt.show()\n",
    "\n"
   ]
  },
  {
   "cell_type": "markdown",
   "id": "a6c519ee-95e9-4d07-8384-7f745e5fb008",
   "metadata": {},
   "source": [
    "There were mutiple genes tied for the top 3 genes that appear in the most pathways \n",
    "\n",
    "The above venn diagrams show that for the genes tied for each spot (1,2, and 3 respectively) <br>\n",
    "that those genes are found in the same pathways. They overlap completely. \n",
    "\n",
    "#we can then use any one of the ties genes at each spot as a representation of that spot since they are the same. "
   ]
  },
  {
   "cell_type": "code",
   "execution_count": 30,
   "id": "24fb4f11-1503-4946-bda4-85becdf8fe2a",
   "metadata": {},
   "outputs": [
    {
     "data": {
      "image/png": "[encoded data removed]",
      "text/plain": [
       "<Figure size 432x288 with 1 Axes>"
      ]
     },
     "metadata": {},
     "output_type": "display_data"
    }
   ],
   "source": [
    "#below is the final Venn Diagram where I chose one gene from each pathway count category and placed it in this Venn Diagram.\n",
    "#I did label each group though with all the names of the genes in that pathway count category. \n",
    "\n",
    "set1 = set(value_dictionary['hsa:5595'])\n",
    "set2 = set(value_dictionary['hsa:5290'])\n",
    "set3 = set(value_dictionary['hsa:5295'])\n",
    "venn3([set1, set2, set3], (\"Gene_IDs: hsa:5595, hsa:5594 (117)\", \"Gene_IDs: hsa:5291, hsa:5290, hsa:5293 (106)\",\n",
    "                           \"Gene_IDs: hsa:5295, hsa:5296, hsa:8503 (103)\"), alpha = 0.7)\n",
    "plt.title(\"Pathway Overlap for all Genes\")\n",
    "plt.show()"
   ]
  },
  {
   "cell_type": "markdown",
   "id": "5ca003a6-6f93-42fb-95ef-afbb5b4ef44f",
   "metadata": {},
   "source": [
    "The top 3 genes that appear in the most number of KEGG pathways are \n",
    "\n",
    "- Gene_IDs: hsa:5595, hsa:5594, both appear in the same 117 pathways (#1) \n",
    "- Gene IDs: Gene_IDs: hsa:5291, hsa:5290, hsa:5293 all appear in the same 106 pathways (#2)\n",
    "- Gene IDs: hsa:5295, hsa:5296, hsa:8503 all appear in the same 103 pathways (#3)\n",
    "\n",
    "All of the top 3 genes appear in 84 common pathways \n",
    "\n",
    "gene #1 appears in 33 pathways uniquely from the other top 3, and appear in 1 common pathway with gene #3\n",
    "\n",
    "Gene #2 appears in 2 pathways uniquely from the other top 3, and appears in 20 common pathways with gene #3, \n",
    "\n",
    "\n"
   ]
  }
 ],
 "metadata": {
  "kernelspec": {
   "display_name": "Python 3",
   "language": "python",
   "name": "python3"
  },
  "language_info": {
   "codemirror_mode": {
    "name": "ipython",
    "version": 3
   },
   "file_extension": ".py",
   "mimetype": "text/x-python",
   "name": "python",
   "nbconvert_exporter": "python",
   "pygments_lexer": "ipython3",
   "version": "3.8.8"
  }
 },
 "nbformat": 4,
 "nbformat_minor": 5
}
